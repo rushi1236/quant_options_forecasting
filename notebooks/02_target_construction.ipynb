{
 "cells": [
  {
   "cell_type": "code",
   "execution_count": 1,
   "id": "eb3ea1be",
   "metadata": {},
   "outputs": [
    {
     "name": "stdout",
     "output_type": "stream",
     "text": [
      "Loaded data: shape=(1867, 12), columns=['Close', 'High', 'Low', 'Open', 'Volume', 'log_ret', 'vol_band', 'hv10', 'hv20', 'hv30', 'hv10_z', 'hv30_z']\n",
      "Feature scaling complete. Added 8 standardized columns.\n",
      "After target NaN drop: shape=(1858, 31)\n",
      "✅ Saved updated dataset with features & targets to data/processed/underlying_price.pkl\n",
      "Price        log_ret      hv10  hv10_fwd\n",
      "Date                                    \n",
      "2018-01-03  0.000096       NaN  0.052365\n",
      "2018-01-04  0.005881       NaN  0.057722\n",
      "2018-01-05  0.005132       NaN  0.055854\n",
      "2018-01-08  0.006114       NaN  0.058932\n",
      "2018-01-09  0.001261       NaN  0.059574\n",
      "2018-01-10 -0.000451       NaN  0.069047\n",
      "2018-01-11  0.001785       NaN  0.067897\n",
      "2018-01-12  0.002817       NaN  0.072906\n",
      "2018-01-15  0.005630       NaN  0.073068\n",
      "2018-01-16 -0.003834  0.052365  0.091910\n"
     ]
    }
   ],
   "source": [
    "# phase2_feature_engineering_and_target_construction.ipynb\n",
    "\n",
    "import pandas as pd\n",
    "import numpy as np\n",
    "from sklearn.preprocessing import StandardScaler\n",
    "\n",
    "# === Load from Phase 1 ===\n",
    "df = pd.read_pickle(\"data/processed/underlying_price.pkl\")\n",
    "print(f\"Loaded data: shape={df.shape}, columns={list(df.columns)}\")\n",
    "\n",
    "# === Target construction: forward realized volatility ===\n",
    "df['hv10_fwd'] = df['log_ret'].rolling(10).std().shift(-9) * np.sqrt(252)\n",
    "df['hv20_fwd'] = df['log_ret'].rolling(20).std().shift(-19) * np.sqrt(252)\n",
    "df['hv30_fwd'] = df['log_ret'].rolling(30).std().shift(-29) * np.sqrt(252)\n",
    "\n",
    "# === Feature engineering ===\n",
    "df['abs_log_ret'] = np.abs(df['log_ret'])\n",
    "df['abs_log_ret_lag1'] = df['abs_log_ret'].shift(1)\n",
    "df['abs_log_ret_lag5'] = df['abs_log_ret'].shift(1).rolling(5).mean()\n",
    "\n",
    "df['ret_3d'] = np.log(df['Close'] / df['Close'].shift(3))\n",
    "df['ret_std_5d'] = df['log_ret'].rolling(5).std()\n",
    "\n",
    "df['hv_diff'] = df['hv10'] - df['hv30']\n",
    "\n",
    "df['day_of_week'] = df.index.dayofweek\n",
    "df['days_to_expiry'] = (3 - df.index.dayofweek) % 7  # e.g., expiry on Wednesday\n",
    "\n",
    "# === Scale selected features ===\n",
    "features_to_scale = [\n",
    "    'abs_log_ret', 'abs_log_ret_lag1', 'abs_log_ret_lag5',\n",
    "    'ret_3d', 'ret_std_5d', 'hv20', 'hv_diff', 'days_to_expiry'\n",
    "]\n",
    "\n",
    "scaler = StandardScaler()\n",
    "\n",
    "# Only scale rows where all features are present\n",
    "df_scaled = df[features_to_scale].dropna()\n",
    "scaled_values = scaler.fit_transform(df_scaled)\n",
    "\n",
    "for i, col in enumerate(features_to_scale):\n",
    "    df[col + '_z'] = np.nan\n",
    "    df.loc[df_scaled.index, col + '_z'] = scaled_values[:, i]\n",
    "\n",
    "print(f\"Feature scaling complete. Added {len(features_to_scale)} standardized columns.\")\n",
    "\n",
    "# === Drop rows where any target is missing (to make ML step clean) ===\n",
    "df = df.dropna(subset=['log_ret', 'hv10_fwd'])\n",
    "\n",
    "print(f\"After target NaN drop: shape={df.shape}\")\n",
    "\n",
    "# === Save for Phase 3 ===\n",
    "df.to_pickle(\"data/processed/underlying_price.pkl\")\n",
    "print(\"✅ Saved updated dataset with features & targets to data/processed/underlying_price.pkl\")\n",
    "\n",
    "# Optional quick check\n",
    "print(df[['log_ret', 'hv10', 'hv10_fwd']].head(10))\n"
   ]
  }
 ],
 "metadata": {
  "kernelspec": {
   "display_name": "myenv311",
   "language": "python",
   "name": "python3"
  },
  "language_info": {
   "codemirror_mode": {
    "name": "ipython",
    "version": 3
   },
   "file_extension": ".py",
   "mimetype": "text/x-python",
   "name": "python",
   "nbconvert_exporter": "python",
   "pygments_lexer": "ipython3",
   "version": "3.11.6"
  }
 },
 "nbformat": 4,
 "nbformat_minor": 5
}
